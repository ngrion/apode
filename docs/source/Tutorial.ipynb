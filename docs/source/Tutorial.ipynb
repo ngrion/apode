{
 "cells": [
  {
   "cell_type": "markdown",
   "metadata": {},
   "source": [
    "# Apode Tutorial\n",
    "\n",
    "This tutorial shows the current functionalities of the Apode package. Apode contains various methods to calculate measures and generate graphs on the following topics:\n",
    "\n",
    "* Poverty\n",
    "* Inequality\n",
    "* Welfare\n",
    "* Polarization\n",
    "* Concentration\n",
    "\n",
    "\n",
    "## Getting Started\n",
    "\n",
    "### ApodeData class\n",
    "\n",
    "The objects are created as:\n",
    "\n",
    "    ad = ApodeData(DataFrame,income_column)\n",
    "    \n",
    "Where income_column is the name of the column of interest for the analysis in the dataframe.\n",
    "\n",
    "Methods that calculate indicators:\n",
    "   \n",
    "    ad.poverty(method,*args)    \n",
    "    ad.ineq(method,*args)\n",
    "    ad.welfare(method,*args) \n",
    "    ad.polarization(method,*args)\n",
    "    ad.concentration(method,*args)\n",
    " \n",
    "Métodos that generate graphs:\n",
    "\n",
    "    ad.plot.hist()\n",
    "    ad.plot.tip(**kwargs)\n",
    "    ad.plot.lorenz(**kwargs)\n",
    "    ad.plot.pen(**kwargs)\n",
    "    \n",
    "    "
   ]
  },
  {
   "cell_type": "markdown",
   "metadata": {},
   "source": [
    "### Data Creation and Description\n",
    "\n",
    "* Data can be generated manually or by means of a simulation. They are contained in a DataFrame object.\n",
    "* Other categoric variables that allow for the indicators to be applied by groups (groupby) might be available."
   ]
  },
  {
   "cell_type": "code",
   "execution_count": 1,
   "metadata": {},
   "outputs": [],
   "source": [
    "import numpy as np\n",
    "import pandas as pd\n",
    "\n",
    "from apode import ApodeData\n",
    "from apode import datasets "
   ]
  },
  {
   "cell_type": "markdown",
   "metadata": {},
   "source": [
    "### Manual data loading\n",
    "\n",
    "An object can be generated from a DataFrame or from a valid argument in the DataFrame method."
   ]
  },
  {
   "cell_type": "code",
   "execution_count": 2,
   "metadata": {},
   "outputs": [
    {
     "data": {
      "text/html": [
       "<div class=\"apode-data-container\" id=2098200889232><div>\n",
       "<style scoped>\n",
       "    .dataframe tbody tr th:only-of-type {\n",
       "        vertical-align: middle;\n",
       "    }\n",
       "\n",
       "    .dataframe tbody tr th {\n",
       "        vertical-align: top;\n",
       "    }\n",
       "\n",
       "    .dataframe thead th {\n",
       "        text-align: right;\n",
       "    }\n",
       "</style>\n",
       "<table border=\"1\" class=\"dataframe\">\n",
       "  <thead>\n",
       "    <tr style=\"text-align: right;\">\n",
       "      <th></th>\n",
       "      <th>x</th>\n",
       "    </tr>\n",
       "  </thead>\n",
       "  <tbody>\n",
       "    <tr>\n",
       "      <th>0</th>\n",
       "      <td>23</td>\n",
       "    </tr>\n",
       "    <tr>\n",
       "      <th>1</th>\n",
       "      <td>10</td>\n",
       "    </tr>\n",
       "    <tr>\n",
       "      <th>2</th>\n",
       "      <td>12</td>\n",
       "    </tr>\n",
       "    <tr>\n",
       "      <th>3</th>\n",
       "      <td>21</td>\n",
       "    </tr>\n",
       "    <tr>\n",
       "      <th>4</th>\n",
       "      <td>4</td>\n",
       "    </tr>\n",
       "    <tr>\n",
       "      <th>5</th>\n",
       "      <td>8</td>\n",
       "    </tr>\n",
       "    <tr>\n",
       "      <th>6</th>\n",
       "      <td>19</td>\n",
       "    </tr>\n",
       "    <tr>\n",
       "      <th>7</th>\n",
       "      <td>15</td>\n",
       "    </tr>\n",
       "    <tr>\n",
       "      <th>8</th>\n",
       "      <td>11</td>\n",
       "    </tr>\n",
       "    <tr>\n",
       "      <th>9</th>\n",
       "      <td>9</td>\n",
       "    </tr>\n",
       "  </tbody>\n",
       "</table>\n",
       "</div>ApodeData(income_column='<i>x</i>') - 10 rows x             1 columns</div>"
      ],
      "text/plain": [
       "    x\n",
       "0  23\n",
       "1  10\n",
       "2  12\n",
       "3  21\n",
       "4   4\n",
       "5   8\n",
       "6  19\n",
       "7  15\n",
       "8  11\n",
       "9   9\n",
       "ApodeData(income_column='x') - 10 rows x             1 columns"
      ]
     },
     "execution_count": 2,
     "metadata": {},
     "output_type": "execute_result"
    }
   ],
   "source": [
    "x = [23, 10, 12, 21, 4, 8, 19, 15, 11, 9]\n",
    "df1 = pd.DataFrame({'x':x})\n",
    "ad1 = ApodeData(df1, income_column=\"x\") \n",
    "ad1"
   ]
  },
  {
   "cell_type": "markdown",
   "metadata": {},
   "source": [
    "### Data simulation\n",
    "\n",
    "The module *datasets* contains some distribution examples commonly used to model the income distribution. For example:"
   ]
  },
  {
   "cell_type": "code",
   "execution_count": 3,
   "metadata": {},
   "outputs": [
    {
     "data": {
      "text/html": [
       "<div>\n",
       "<style scoped>\n",
       "    .dataframe tbody tr th:only-of-type {\n",
       "        vertical-align: middle;\n",
       "    }\n",
       "\n",
       "    .dataframe tbody tr th {\n",
       "        vertical-align: top;\n",
       "    }\n",
       "\n",
       "    .dataframe thead th {\n",
       "        text-align: right;\n",
       "    }\n",
       "</style>\n",
       "<table border=\"1\" class=\"dataframe\">\n",
       "  <thead>\n",
       "    <tr style=\"text-align: right;\">\n",
       "      <th></th>\n",
       "      <th>x</th>\n",
       "    </tr>\n",
       "  </thead>\n",
       "  <tbody>\n",
       "    <tr>\n",
       "      <th>count</th>\n",
       "      <td>1000.000000</td>\n",
       "    </tr>\n",
       "    <tr>\n",
       "      <th>mean</th>\n",
       "      <td>45.408376</td>\n",
       "    </tr>\n",
       "    <tr>\n",
       "      <th>std</th>\n",
       "      <td>30.207372</td>\n",
       "    </tr>\n",
       "    <tr>\n",
       "      <th>min</th>\n",
       "      <td>0.112876</td>\n",
       "    </tr>\n",
       "    <tr>\n",
       "      <th>25%</th>\n",
       "      <td>22.363891</td>\n",
       "    </tr>\n",
       "    <tr>\n",
       "      <th>50%</th>\n",
       "      <td>39.404779</td>\n",
       "    </tr>\n",
       "    <tr>\n",
       "      <th>75%</th>\n",
       "      <td>62.690946</td>\n",
       "    </tr>\n",
       "    <tr>\n",
       "      <th>max</th>\n",
       "      <td>190.596705</td>\n",
       "    </tr>\n",
       "  </tbody>\n",
       "</table>\n",
       "</div>"
      ],
      "text/plain": [
       "                 x\n",
       "count  1000.000000\n",
       "mean     45.408376\n",
       "std      30.207372\n",
       "min       0.112876\n",
       "25%      22.363891\n",
       "50%      39.404779\n",
       "75%      62.690946\n",
       "max     190.596705"
      ]
     },
     "execution_count": 3,
     "metadata": {},
     "output_type": "execute_result"
    }
   ],
   "source": [
    "# Generate data\n",
    "n = 1000 # observations\n",
    "seed = 12345\n",
    "ad2 = datasets.make_weibull(seed=seed,size=n)\n",
    "ad2.describe()"
   ]
  },
  {
   "cell_type": "code",
   "execution_count": 4,
   "metadata": {},
   "outputs": [
    {
     "data": {
      "image/png": "[encoded data removed]",
      "text/plain": [
       "<Figure size 432x288 with 1 Axes>"
      ]
     },
     "metadata": {
      "needs_background": "light"
     },
     "output_type": "display_data"
    }
   ],
   "source": [
    "# Plotting the distribution\n",
    "ad2.plot();"
   ]
  },
  {
   "cell_type": "markdown",
   "metadata": {},
   "source": [
    "Other distributions are: uniform, lognormal, exponential, pareto, chisquare and gamma. For help type:"
   ]
  },
  {
   "cell_type": "code",
   "execution_count": 5,
   "metadata": {},
   "outputs": [
    {
     "name": "stdout",
     "output_type": "stream",
     "text": [
      "Help on function make_weibull in module apode.datasets:\n",
      "\n",
      "make_weibull(seed=None, size=100, a=1.5, c=50, nbin=None)\n",
      "    Weibull Distribution.\n",
      "    \n",
      "    Parameters\n",
      "    ----------\n",
      "    seed: int, optional(default=None)\n",
      "    \n",
      "    size: int, optional(default=100)\n",
      "    \n",
      "    a: float, optional(default=1.5)\n",
      "    \n",
      "    c: float, optional(default=50)\n",
      "    \n",
      "    nbin: int, optional(default=None)\n",
      "    \n",
      "    Return\n",
      "    ------\n",
      "    out: float array\n",
      "        Array of random numbers.\n",
      "\n"
     ]
    }
   ],
   "source": [
    "help(datasets.make_weibull)"
   ]
  },
  {
   "cell_type": "markdown",
   "metadata": {},
   "source": [
    "## Poverty \n",
    "\n",
    "The following poverty measures are implemented:\n",
    "\n",
    "- `headcount`: Headcount Index\n",
    "- `gap`: Poverty gap Index\n",
    "- `severity`: Poverty Severity Index\n",
    "- `fgt`: Foster–Greer–Thorbecke Indices\n",
    "- `sen`: Sen Index\n",
    "- `sst`: Sen-Shorrocks-Thon Index\n",
    "- `watts`: Watts Index\n",
    "- `cuh`: Clark, Ulph and Hemming Indices\n",
    "- `takayama`: Takayama Index\n",
    "- `kakwani`: Kakwani Indices\n",
    "- `thon`: Thon Index\n",
    "- `bd`: Blackorby and Donaldson Indices\n",
    "- `hagenaars`: Hagenaars Index\n",
    "- `chakravarty`: Chakravarty Indices\n",
    "\n",
    "Also the TIP curve, which allows for a graphic comparison of poverty amongst different distributions."
   ]
  },
  {
   "cell_type": "markdown",
   "metadata": {},
   "source": [
    "### Numerical measures\n",
    "\n",
    "All the methods require the poverty line (*pline*) as argument for get a absolute measure of poverty."
   ]
  },
  {
   "cell_type": "code",
   "execution_count": 8,
   "metadata": {},
   "outputs": [
    {
     "data": {
      "text/plain": [
       "0.626"
      ]
     },
     "execution_count": 8,
     "metadata": {},
     "output_type": "execute_result"
    }
   ],
   "source": [
    "pline = 50 # Poverty line\n",
    "p = ad2.poverty('headcount',pline=pline)\n",
    "p"
   ]
  },
  {
   "cell_type": "markdown",
   "metadata": {},
   "source": [
    "If the argument is omitted 0.5\\*median is used. Other options for a relative measure of poverty are:"
   ]
  },
  {
   "cell_type": "code",
   "execution_count": 9,
   "metadata": {},
   "outputs": [
    {
     "data": {
      "text/plain": [
       "(0.214, 0.214, 0.214, 0.256)"
      ]
     },
     "execution_count": 9,
     "metadata": {},
     "output_type": "execute_result"
    }
   ],
   "source": [
    "# pline = factor*stat  [stat: mean, median, quantile_q]\n",
    "p1 = ad2.poverty('headcount')  # pline= 0.5*median(y)\n",
    "p2 = ad2.poverty('headcount', pline='median', factor=0.5)\n",
    "p3 = ad2.poverty('headcount', pline='quantile', q=0.5, factor=0.5)\n",
    "p4 = ad2.poverty('headcount', pline='mean', factor=0.5)\n",
    "p1, p2, p3, p4"
   ]
  },
  {
   "cell_type": "markdown",
   "metadata": {},
   "source": [
    "Some methods require an additional parameter, *alpha*. In some cases, a default value is set for it. The summary function shows the result of various methods:"
   ]
  },
  {
   "cell_type": "code",
   "execution_count": 10,
   "metadata": {},
   "outputs": [
    {
     "data": {
      "text/html": [
       "<div>\n",
       "<style scoped>\n",
       "    .dataframe tbody tr th:only-of-type {\n",
       "        vertical-align: middle;\n",
       "    }\n",
       "\n",
       "    .dataframe tbody tr th {\n",
       "        vertical-align: top;\n",
       "    }\n",
       "\n",
       "    .dataframe thead th {\n",
       "        text-align: right;\n",
       "    }\n",
       "</style>\n",
       "<table border=\"1\" class=\"dataframe\">\n",
       "  <thead>\n",
       "    <tr style=\"text-align: right;\">\n",
       "      <th></th>\n",
       "      <th>method</th>\n",
       "      <th>measure</th>\n",
       "    </tr>\n",
       "  </thead>\n",
       "  <tbody>\n",
       "    <tr>\n",
       "      <th>0</th>\n",
       "      <td>headcount</td>\n",
       "      <td>0.214000</td>\n",
       "    </tr>\n",
       "    <tr>\n",
       "      <th>1</th>\n",
       "      <td>gap</td>\n",
       "      <td>0.088038</td>\n",
       "    </tr>\n",
       "    <tr>\n",
       "      <th>2</th>\n",
       "      <td>severity</td>\n",
       "      <td>0.052488</td>\n",
       "    </tr>\n",
       "    <tr>\n",
       "      <th>3</th>\n",
       "      <td>fgt(1.5)</td>\n",
       "      <td>0.066208</td>\n",
       "    </tr>\n",
       "    <tr>\n",
       "      <th>4</th>\n",
       "      <td>sen</td>\n",
       "      <td>0.134042</td>\n",
       "    </tr>\n",
       "    <tr>\n",
       "      <th>5</th>\n",
       "      <td>sst</td>\n",
       "      <td>0.164471</td>\n",
       "    </tr>\n",
       "    <tr>\n",
       "      <th>6</th>\n",
       "      <td>watts</td>\n",
       "      <td>0.155405</td>\n",
       "    </tr>\n",
       "    <tr>\n",
       "      <th>7</th>\n",
       "      <td>cuh(0)</td>\n",
       "      <td>0.917773</td>\n",
       "    </tr>\n",
       "    <tr>\n",
       "      <th>8</th>\n",
       "      <td>cuh(0.5)</td>\n",
       "      <td>0.112144</td>\n",
       "    </tr>\n",
       "    <tr>\n",
       "      <th>9</th>\n",
       "      <td>takayama</td>\n",
       "      <td>0.083811</td>\n",
       "    </tr>\n",
       "    <tr>\n",
       "      <th>10</th>\n",
       "      <td>kakwani</td>\n",
       "      <td>0.139643</td>\n",
       "    </tr>\n",
       "    <tr>\n",
       "      <th>11</th>\n",
       "      <td>thon</td>\n",
       "      <td>0.164395</td>\n",
       "    </tr>\n",
       "    <tr>\n",
       "      <th>12</th>\n",
       "      <td>bd(1.0)</td>\n",
       "      <td>0.110478</td>\n",
       "    </tr>\n",
       "    <tr>\n",
       "      <th>13</th>\n",
       "      <td>bd(2.0)</td>\n",
       "      <td>0.158095</td>\n",
       "    </tr>\n",
       "    <tr>\n",
       "      <th>14</th>\n",
       "      <td>hagenaars</td>\n",
       "      <td>0.052136</td>\n",
       "    </tr>\n",
       "    <tr>\n",
       "      <th>15</th>\n",
       "      <td>chakravarty(0.5)</td>\n",
       "      <td>0.056072</td>\n",
       "    </tr>\n",
       "  </tbody>\n",
       "</table>\n",
       "</div>"
      ],
      "text/plain": [
       "              method   measure\n",
       "0          headcount  0.214000\n",
       "1                gap  0.088038\n",
       "2           severity  0.052488\n",
       "3           fgt(1.5)  0.066208\n",
       "4                sen  0.134042\n",
       "5                sst  0.164471\n",
       "6              watts  0.155405\n",
       "7             cuh(0)  0.917773\n",
       "8           cuh(0.5)  0.112144\n",
       "9           takayama  0.083811\n",
       "10           kakwani  0.139643\n",
       "11              thon  0.164395\n",
       "12           bd(1.0)  0.110478\n",
       "13           bd(2.0)  0.158095\n",
       "14         hagenaars  0.052136\n",
       "15  chakravarty(0.5)  0.056072"
      ]
     },
     "execution_count": 10,
     "metadata": {},
     "output_type": "execute_result"
    }
   ],
   "source": [
    "df_p = poverty_summary(ad2)\n",
    "df_p"
   ]
  },
  {
   "cell_type": "markdown",
   "metadata": {},
   "source": [
    "### Graph measures"
   ]
  },
  {
   "cell_type": "code",
   "execution_count": 11,
   "metadata": {},
   "outputs": [
    {
     "data": {
      "image/png": "[encoded data removed]",
      "text/plain": [
       "<Figure size 360x288 with 1 Axes>"
      ]
     },
     "metadata": {
      "needs_background": "light"
     },
     "output_type": "display_data"
    }
   ],
   "source": [
    "# TIP curve\n",
    "ad2.plot.tip(pline=pline);"
   ]
  },
  {
   "cell_type": "markdown",
   "metadata": {},
   "source": [
    "### Exercise: Comparison of poverty measures\n",
    "\n",
    "In this exercise some properties of three poverty measures are compared (they are part of the *FGT* class). The exercise compares three distributions:"
   ]
  },
  {
   "cell_type": "code",
   "execution_count": 12,
   "metadata": {},
   "outputs": [
    {
     "data": {
      "text/html": [
       "<div>\n",
       "<style scoped>\n",
       "    .dataframe tbody tr th:only-of-type {\n",
       "        vertical-align: middle;\n",
       "    }\n",
       "\n",
       "    .dataframe tbody tr th {\n",
       "        vertical-align: top;\n",
       "    }\n",
       "\n",
       "    .dataframe thead th {\n",
       "        text-align: right;\n",
       "    }\n",
       "</style>\n",
       "<table border=\"1\" class=\"dataframe\">\n",
       "  <thead>\n",
       "    <tr style=\"text-align: right;\">\n",
       "      <th></th>\n",
       "      <th>x1</th>\n",
       "      <th>x2</th>\n",
       "      <th>x3</th>\n",
       "    </tr>\n",
       "  </thead>\n",
       "  <tbody>\n",
       "    <tr>\n",
       "      <th>0</th>\n",
       "      <td>5</td>\n",
       "      <td>15</td>\n",
       "      <td>25</td>\n",
       "    </tr>\n",
       "    <tr>\n",
       "      <th>1</th>\n",
       "      <td>20</td>\n",
       "      <td>30</td>\n",
       "      <td>30</td>\n",
       "    </tr>\n",
       "    <tr>\n",
       "      <th>2</th>\n",
       "      <td>35</td>\n",
       "      <td>45</td>\n",
       "      <td>35</td>\n",
       "    </tr>\n",
       "    <tr>\n",
       "      <th>3</th>\n",
       "      <td>60</td>\n",
       "      <td>60</td>\n",
       "      <td>60</td>\n",
       "    </tr>\n",
       "  </tbody>\n",
       "</table>\n",
       "</div>"
      ],
      "text/plain": [
       "   x1  x2  x3\n",
       "0   5  15  25\n",
       "1  20  30  30\n",
       "2  35  45  35\n",
       "3  60  60  60"
      ]
     },
     "execution_count": 12,
     "metadata": {},
     "output_type": "execute_result"
    }
   ],
   "source": [
    "x1 = np.array([5,20,35,60])\n",
    "x2 = x1 +  np.array([10, 10, 10, 0])\n",
    "x3 = x2 +  np.array([10,0,-10, 0])\n",
    "dfe = pd.DataFrame({'x1':x1,'x2':x2, 'x3':x3})\n",
    "dfe"
   ]
  },
  {
   "cell_type": "code",
   "execution_count": 13,
   "metadata": {},
   "outputs": [
    {
     "data": {
      "text/plain": [
       "(0.75, 0.75, 0.75)"
      ]
     },
     "execution_count": 13,
     "metadata": {},
     "output_type": "execute_result"
    }
   ],
   "source": [
    "pline = 50\n",
    "ade1 = ApodeData(dfe,income_column='x1') \n",
    "ade2 = ApodeData(dfe,income_column='x2') \n",
    "ade3 = ApodeData(dfe,income_column='x3') \n",
    "\n",
    "# Headcount\n",
    "ade1.poverty('headcount',pline=pline), ade2.poverty('headcount',pline=pline), ade3.poverty('headcount',pline=pline)"
   ]
  },
  {
   "cell_type": "markdown",
   "metadata": {},
   "source": [
    "The greatest virtues of the *headcount index* are that it is simple to construct and\n",
    "easy to understand. However, the measure does not take the intensity of poverty into account (the three indices are equal)."
   ]
  },
  {
   "cell_type": "code",
   "execution_count": 58,
   "metadata": {},
   "outputs": [
    {
     "data": {
      "text/plain": [
       "(0.45, 0.30000000000000004, 0.3)"
      ]
     },
     "execution_count": 58,
     "metadata": {},
     "output_type": "execute_result"
    }
   ],
   "source": [
    "# Poverty Gap\n",
    "ade1.poverty('gap',pline=pline), ade2.poverty('gap',pline=pline), ade3.poverty('gap',pline=pline)"
   ]
  },
  {
   "cell_type": "markdown",
   "metadata": {},
   "source": [
    "The *poverty gap* index gives an idea of the cost to eliminate poverty (in relation to the poverty line). But the previous indices are unsatisfactory because they violate the *transfer principle* which states that transfers from a richer person to a poorer person should improve the welfare measure (x2 versus x3). This property is captured by the *severity* index."
   ]
  },
  {
   "cell_type": "code",
   "execution_count": 59,
   "metadata": {},
   "outputs": [
    {
     "data": {
      "text/plain": [
       "(0.315, 0.16499999999999998, 0.125)"
      ]
     },
     "execution_count": 59,
     "metadata": {},
     "output_type": "execute_result"
    }
   ],
   "source": [
    "# Severity\n",
    "ade1.poverty('severity',pline=pline), ade2.poverty('severity',pline=pline), ade3.poverty('severity',pline=pline)"
   ]
  },
  {
   "cell_type": "markdown",
   "metadata": {},
   "source": [
    "### Exercise: Contribution of each subgroup to aggregate poverty\n",
    "\n",
    "Another convenient feature of the *FGT* class of poverty measures is that they can be disaggregated for population subgroups and the contribution of each subgroup\n",
    "to aggregate poverty can be calculated. For instance:    "
   ]
  },
  {
   "cell_type": "code",
   "execution_count": 36,
   "metadata": {},
   "outputs": [
    {
     "data": {
      "text/html": [
       "<div class=\"apode-data-container\" id=2098203040640><div>\n",
       "<style scoped>\n",
       "    .dataframe tbody tr th:only-of-type {\n",
       "        vertical-align: middle;\n",
       "    }\n",
       "\n",
       "    .dataframe tbody tr th {\n",
       "        vertical-align: top;\n",
       "    }\n",
       "\n",
       "    .dataframe thead th {\n",
       "        text-align: right;\n",
       "    }\n",
       "</style>\n",
       "<table border=\"1\" class=\"dataframe\">\n",
       "  <thead>\n",
       "    <tr style=\"text-align: right;\">\n",
       "      <th></th>\n",
       "      <th>x</th>\n",
       "      <th>region</th>\n",
       "    </tr>\n",
       "  </thead>\n",
       "  <tbody>\n",
       "    <tr>\n",
       "      <th>0</th>\n",
       "      <td>23</td>\n",
       "      <td>urban</td>\n",
       "    </tr>\n",
       "    <tr>\n",
       "      <th>1</th>\n",
       "      <td>10</td>\n",
       "      <td>urban</td>\n",
       "    </tr>\n",
       "    <tr>\n",
       "      <th>2</th>\n",
       "      <td>12</td>\n",
       "      <td>rural</td>\n",
       "    </tr>\n",
       "    <tr>\n",
       "      <th>3</th>\n",
       "      <td>21</td>\n",
       "      <td>urban</td>\n",
       "    </tr>\n",
       "    <tr>\n",
       "      <th>4</th>\n",
       "      <td>4</td>\n",
       "      <td>urban</td>\n",
       "    </tr>\n",
       "    <tr>\n",
       "      <th>5</th>\n",
       "      <td>8</td>\n",
       "      <td>rural</td>\n",
       "    </tr>\n",
       "    <tr>\n",
       "      <th>6</th>\n",
       "      <td>19</td>\n",
       "      <td>rural</td>\n",
       "    </tr>\n",
       "    <tr>\n",
       "      <th>7</th>\n",
       "      <td>15</td>\n",
       "      <td>rural</td>\n",
       "    </tr>\n",
       "    <tr>\n",
       "      <th>8</th>\n",
       "      <td>5</td>\n",
       "      <td>urban</td>\n",
       "    </tr>\n",
       "    <tr>\n",
       "      <th>9</th>\n",
       "      <td>7</td>\n",
       "      <td>urban</td>\n",
       "    </tr>\n",
       "  </tbody>\n",
       "</table>\n",
       "</div>ApodeData(income_column='<i>x</i>') - 10 rows x             2 columns</div>"
      ],
      "text/plain": [
       "    x region\n",
       "0  23  urban\n",
       "1  10  urban\n",
       "2  12  rural\n",
       "3  21  urban\n",
       "4   4  urban\n",
       "5   8  rural\n",
       "6  19  rural\n",
       "7  15  rural\n",
       "8   5  urban\n",
       "9   7  urban\n",
       "ApodeData(income_column='x') - 10 rows x             2 columns"
      ]
     },
     "execution_count": 36,
     "metadata": {},
     "output_type": "execute_result"
    }
   ],
   "source": [
    "x = [23, 10, 12, 21, 4, 8, 19, 15, 5, 7]\n",
    "y = [10,10,20,10,10,20,20,20,10,10] \n",
    "region = ['urban','urban','rural','urban','urban','rural','rural','rural','urban','urban'] \n",
    "dfa = pd.DataFrame({'x':x,'region':region})\n",
    "ada1 = ApodeData(dfa,income_column='x') \n",
    "ada1"
   ]
  },
  {
   "cell_type": "code",
   "execution_count": 39,
   "metadata": {},
   "outputs": [
    {
     "data": {
      "text/html": [
       "<div>\n",
       "<style scoped>\n",
       "    .dataframe tbody tr th:only-of-type {\n",
       "        vertical-align: middle;\n",
       "    }\n",
       "\n",
       "    .dataframe tbody tr th {\n",
       "        vertical-align: top;\n",
       "    }\n",
       "\n",
       "    .dataframe thead th {\n",
       "        text-align: right;\n",
       "    }\n",
       "</style>\n",
       "<table border=\"1\" class=\"dataframe\">\n",
       "  <thead>\n",
       "    <tr style=\"text-align: right;\">\n",
       "      <th></th>\n",
       "      <th>x_measure</th>\n",
       "      <th>x_weight</th>\n",
       "    </tr>\n",
       "  </thead>\n",
       "  <tbody>\n",
       "    <tr>\n",
       "      <th>rural</th>\n",
       "      <td>0.250000</td>\n",
       "      <td>4</td>\n",
       "    </tr>\n",
       "    <tr>\n",
       "      <th>urban</th>\n",
       "      <td>0.666667</td>\n",
       "      <td>6</td>\n",
       "    </tr>\n",
       "  </tbody>\n",
       "</table>\n",
       "</div>"
      ],
      "text/plain": [
       "       x_measure  x_weight\n",
       "rural   0.250000         4\n",
       "urban   0.666667         6"
      ]
     },
     "execution_count": 39,
     "metadata": {},
     "output_type": "execute_result"
    }
   ],
   "source": [
    "# group calculation according to variable \"y\"\n",
    "pline = 11\n",
    "pg = poverty_groupby(ada1,'headcount',group_column='region', pline=pline)\n",
    "pg"
   ]
  },
  {
   "cell_type": "code",
   "execution_count": 40,
   "metadata": {},
   "outputs": [
    {
     "data": {
      "text/plain": [
       "0.5"
      ]
     },
     "execution_count": 40,
     "metadata": {},
     "output_type": "execute_result"
    }
   ],
   "source": [
    "# simple calculation\n",
    "ps = ada1.poverty('headcount',pline=pline)\n",
    "ps"
   ]
  },
  {
   "cell_type": "code",
   "execution_count": 41,
   "metadata": {},
   "outputs": [
    {
     "data": {
      "text/plain": [
       "0.5"
      ]
     },
     "execution_count": 41,
     "metadata": {},
     "output_type": "execute_result"
    }
   ],
   "source": [
    "# If the indicator is decomposable, the same result is attained:\n",
    "pg_p = sum(pg['x_measure']*pg['x_weight']/sum(pg['x_weight']))\n",
    "pg_p"
   ]
  },
  {
   "cell_type": "markdown",
   "metadata": {},
   "source": [
    "## Inequality \n",
    "\n",
    "The following inequality measures are implemented:\n",
    "\n",
    "- `gini`: Gini Index\n",
    "- `entropy`: Generalized Entropy Index\n",
    "- `atkinson`: Atkinson Index\n",
    "- `rrange`: Relative Range\n",
    "- `rad`: Relative average deviation\n",
    "- `cv`: Coefficient of variation\n",
    "- `sdlog`: Standard deviation of log\n",
    "- `merhan`: Merhan index\n",
    "- `piesch`: Piesch Index\n",
    "- `bonferroni`: Bonferroni Indices\n",
    "- `kolm`: Kolm Index\n",
    "\n",
    "Also the Lorenz and Pen curves, which allows for a graphic comparison of inequality among different distributions."
   ]
  },
  {
   "cell_type": "markdown",
   "metadata": {},
   "source": [
    "### Numerical measures"
   ]
  },
  {
   "cell_type": "code",
   "execution_count": 18,
   "metadata": {},
   "outputs": [
    {
     "data": {
      "text/plain": [
       "0.3652184907296814"
      ]
     },
     "execution_count": 18,
     "metadata": {},
     "output_type": "execute_result"
    }
   ],
   "source": [
    "# Evaluate an inequality method\n",
    "q = ad2.inequality('gini')\n",
    "q"
   ]
  },
  {
   "cell_type": "markdown",
   "metadata": {},
   "source": [
    "The summary function shows the result of various methods:"
   ]
  },
  {
   "cell_type": "code",
   "execution_count": 19,
   "metadata": {},
   "outputs": [
    {
     "data": {
      "text/html": [
       "<div>\n",
       "<style scoped>\n",
       "    .dataframe tbody tr th:only-of-type {\n",
       "        vertical-align: middle;\n",
       "    }\n",
       "\n",
       "    .dataframe tbody tr th {\n",
       "        vertical-align: top;\n",
       "    }\n",
       "\n",
       "    .dataframe thead th {\n",
       "        text-align: right;\n",
       "    }\n",
       "</style>\n",
       "<table border=\"1\" class=\"dataframe\">\n",
       "  <thead>\n",
       "    <tr style=\"text-align: right;\">\n",
       "      <th></th>\n",
       "      <th>method</th>\n",
       "      <th>measure</th>\n",
       "    </tr>\n",
       "  </thead>\n",
       "  <tbody>\n",
       "    <tr>\n",
       "      <th>0</th>\n",
       "      <td>rrange</td>\n",
       "      <td>4.194905</td>\n",
       "    </tr>\n",
       "    <tr>\n",
       "      <th>1</th>\n",
       "      <td>rad</td>\n",
       "      <td>0.264575</td>\n",
       "    </tr>\n",
       "    <tr>\n",
       "      <th>2</th>\n",
       "      <td>cv</td>\n",
       "      <td>0.664905</td>\n",
       "    </tr>\n",
       "    <tr>\n",
       "      <th>3</th>\n",
       "      <td>sdlog</td>\n",
       "      <td>0.916263</td>\n",
       "    </tr>\n",
       "    <tr>\n",
       "      <th>4</th>\n",
       "      <td>gini</td>\n",
       "      <td>0.365218</td>\n",
       "    </tr>\n",
       "    <tr>\n",
       "      <th>5</th>\n",
       "      <td>merhan</td>\n",
       "      <td>0.512500</td>\n",
       "    </tr>\n",
       "    <tr>\n",
       "      <th>6</th>\n",
       "      <td>piesch</td>\n",
       "      <td>0.288587</td>\n",
       "    </tr>\n",
       "    <tr>\n",
       "      <th>7</th>\n",
       "      <td>bonferroni</td>\n",
       "      <td>0.510418</td>\n",
       "    </tr>\n",
       "    <tr>\n",
       "      <th>8</th>\n",
       "      <td>kolm(0.5)</td>\n",
       "      <td>36.566749</td>\n",
       "    </tr>\n",
       "    <tr>\n",
       "      <th>9</th>\n",
       "      <td>ratio(0.05)</td>\n",
       "      <td>0.032061</td>\n",
       "    </tr>\n",
       "    <tr>\n",
       "      <th>10</th>\n",
       "      <td>ratio(0.2)</td>\n",
       "      <td>0.118795</td>\n",
       "    </tr>\n",
       "    <tr>\n",
       "      <th>11</th>\n",
       "      <td>entropy(0)</td>\n",
       "      <td>0.281897</td>\n",
       "    </tr>\n",
       "    <tr>\n",
       "      <th>12</th>\n",
       "      <td>entropy(1)</td>\n",
       "      <td>0.217586</td>\n",
       "    </tr>\n",
       "    <tr>\n",
       "      <th>13</th>\n",
       "      <td>entropy(2)</td>\n",
       "      <td>0.221049</td>\n",
       "    </tr>\n",
       "    <tr>\n",
       "      <th>14</th>\n",
       "      <td>atkinson(0.5)</td>\n",
       "      <td>0.114579</td>\n",
       "    </tr>\n",
       "    <tr>\n",
       "      <th>15</th>\n",
       "      <td>atkinson(1.0)</td>\n",
       "      <td>0.245649</td>\n",
       "    </tr>\n",
       "    <tr>\n",
       "      <th>16</th>\n",
       "      <td>atkinson(2.0)</td>\n",
       "      <td>0.631276</td>\n",
       "    </tr>\n",
       "  </tbody>\n",
       "</table>\n",
       "</div>"
      ],
      "text/plain": [
       "           method    measure\n",
       "0          rrange   4.194905\n",
       "1             rad   0.264575\n",
       "2              cv   0.664905\n",
       "3           sdlog   0.916263\n",
       "4            gini   0.365218\n",
       "5          merhan   0.512500\n",
       "6          piesch   0.288587\n",
       "7      bonferroni   0.510418\n",
       "8       kolm(0.5)  36.566749\n",
       "9     ratio(0.05)   0.032061\n",
       "10     ratio(0.2)   0.118795\n",
       "11     entropy(0)   0.281897\n",
       "12     entropy(1)   0.217586\n",
       "13     entropy(2)   0.221049\n",
       "14  atkinson(0.5)   0.114579\n",
       "15  atkinson(1.0)   0.245649\n",
       "16  atkinson(2.0)   0.631276"
      ]
     },
     "execution_count": 19,
     "metadata": {},
     "output_type": "execute_result"
    }
   ],
   "source": [
    "df_ineq = inequality_summary(ad2)\n",
    "df_ineq"
   ]
  },
  {
   "cell_type": "markdown",
   "metadata": {},
   "source": [
    "### Graph measures\n",
    "\n",
    "The relative, generalized and absolute Lorenz Curves are implemented. Alse de Pen Parade curve."
   ]
  },
  {
   "cell_type": "code",
   "execution_count": 20,
   "metadata": {},
   "outputs": [
    {
     "data": {
      "image/png": "[encoded data removed]",
      "text/plain": [
       "<Figure size 360x288 with 1 Axes>"
      ]
     },
     "metadata": {
      "needs_background": "light"
     },
     "output_type": "display_data"
    }
   ],
   "source": [
    "# Lorenz Curves\n",
    "ad2.plot.lorenz();"
   ]
  },
  {
   "cell_type": "code",
   "execution_count": 21,
   "metadata": {},
   "outputs": [
    {
     "data": {
      "image/png": "[encoded data removed]",
      "text/plain": [
       "<Figure size 360x288 with 1 Axes>"
      ]
     },
     "metadata": {
      "needs_background": "light"
     },
     "output_type": "display_data"
    }
   ],
   "source": [
    "# Generalized Lorenz Curve\n",
    "ad2.plot.lorenz(alpha='g');"
   ]
  },
  {
   "cell_type": "code",
   "execution_count": 22,
   "metadata": {},
   "outputs": [
    {
     "data": {
      "image/png": "[encoded data removed]",
      "text/plain": [
       "<Figure size 360x288 with 1 Axes>"
      ]
     },
     "metadata": {
      "needs_background": "light"
     },
     "output_type": "display_data"
    }
   ],
   "source": [
    "# Absolute Lorenz Curve\n",
    "ad2.plot.lorenz(alpha='a');"
   ]
  },
  {
   "cell_type": "code",
   "execution_count": 23,
   "metadata": {},
   "outputs": [
    {
     "data": {
      "image/png": "[encoded data removed]",
      "text/plain": [
       "<Figure size 360x288 with 1 Axes>"
      ]
     },
     "metadata": {
      "needs_background": "light"
     },
     "output_type": "display_data"
    }
   ],
   "source": [
    "# Pen's Parade\n",
    "ad2.plot.pen(pline=60);"
   ]
  },
  {
   "cell_type": "markdown",
   "metadata": {},
   "source": [
    "### Exercise: Redistributive Effect of Fiscal Policy\n",
    "\n",
    "Income pre and post fiscal policy:"
   ]
  },
  {
   "cell_type": "code",
   "execution_count": 24,
   "metadata": {},
   "outputs": [],
   "source": [
    "# Income pre fiscal policy:\n",
    "y_pre = np.array([20, 30, 40, 60, 100])\n",
    "\n",
    "# Fiscal policy\n",
    "tax = 0.2*np.maximum(y_pre-35,0)  # tax formula\n",
    "revenue = np.sum(tax)             # total revenue\n",
    "transfers = revenue/len(y_pre)    # per capita transfers\n",
    "\n",
    "# Income post fiscal policy:\n",
    "y_post = y_pre - tax + transfers"
   ]
  },
  {
   "cell_type": "code",
   "execution_count": 25,
   "metadata": {},
   "outputs": [
    {
     "data": {
      "text/html": [
       "<div class=\"apode-data-container\" id=2098202579200><div>\n",
       "<style scoped>\n",
       "    .dataframe tbody tr th:only-of-type {\n",
       "        vertical-align: middle;\n",
       "    }\n",
       "\n",
       "    .dataframe tbody tr th {\n",
       "        vertical-align: top;\n",
       "    }\n",
       "\n",
       "    .dataframe thead th {\n",
       "        text-align: right;\n",
       "    }\n",
       "</style>\n",
       "<table border=\"1\" class=\"dataframe\">\n",
       "  <thead>\n",
       "    <tr style=\"text-align: right;\">\n",
       "      <th></th>\n",
       "      <th>y2</th>\n",
       "    </tr>\n",
       "  </thead>\n",
       "  <tbody>\n",
       "    <tr>\n",
       "      <th>0</th>\n",
       "      <td>23.8</td>\n",
       "    </tr>\n",
       "    <tr>\n",
       "      <th>1</th>\n",
       "      <td>33.8</td>\n",
       "    </tr>\n",
       "    <tr>\n",
       "      <th>2</th>\n",
       "      <td>42.8</td>\n",
       "    </tr>\n",
       "    <tr>\n",
       "      <th>3</th>\n",
       "      <td>58.8</td>\n",
       "    </tr>\n",
       "    <tr>\n",
       "      <th>4</th>\n",
       "      <td>90.8</td>\n",
       "    </tr>\n",
       "  </tbody>\n",
       "</table>\n",
       "</div>ApodeData(income_column='<i>y2</i>') - 5 rows x             1 columns</div>"
      ],
      "text/plain": [
       "     y2\n",
       "0  23.8\n",
       "1  33.8\n",
       "2  42.8\n",
       "3  58.8\n",
       "4  90.8\n",
       "ApodeData(income_column='y2') - 5 rows x             1 columns"
      ]
     },
     "execution_count": 25,
     "metadata": {},
     "output_type": "execute_result"
    }
   ],
   "source": [
    "# ApodeData\n",
    "df_pre = pd.DataFrame({'y1':y_pre})\n",
    "ad_pre = ApodeData(df_pre,income_column='y1')\n",
    "\n",
    "df_post = pd.DataFrame({'y2':y_post})\n",
    "ad_post = ApodeData(df_post,income_column='y2')\n",
    "ad_post"
   ]
  },
  {
   "cell_type": "code",
   "execution_count": 26,
   "metadata": {},
   "outputs": [
    {
     "data": {
      "text/plain": [
       "(0.30399999999999994, 0.25440000000000024)"
      ]
     },
     "execution_count": 26,
     "metadata": {},
     "output_type": "execute_result"
    }
   ],
   "source": [
    "# Gini \n",
    "ad_pre.inequality.gini(), ad_post.inequality.gini()  # decrease inequality"
   ]
  },
  {
   "cell_type": "code",
   "execution_count": 27,
   "metadata": {},
   "outputs": [
    {
     "data": {
      "image/png": "[encoded data removed]",
      "text/plain": [
       "<Figure size 360x288 with 1 Axes>"
      ]
     },
     "metadata": {
      "needs_background": "light"
     },
     "output_type": "display_data"
    }
   ],
   "source": [
    "# Lorenz Curves\n",
    "ax = ad_pre.plot.lorenz()\n",
    "ad_post.plot.lorenz(ax=ax);"
   ]
  },
  {
   "cell_type": "markdown",
   "metadata": {},
   "source": [
    "## Welfare\n",
    "\n",
    "The following welfare measures are implemented:\n",
    "\n",
    "- `utilitarian`: Utilitarian utility function\n",
    "- `rawlsian`: Rawlsian utility function\n",
    "- `isoelastic`: Isoelastic utility function\n",
    "- `sen`: Sen utility function\n",
    "- `theill`: Theill utility function\n",
    "- `theilt`: Theilt utility function"
   ]
  },
  {
   "cell_type": "code",
   "execution_count": 28,
   "metadata": {},
   "outputs": [
    {
     "data": {
      "text/plain": [
       "28.824397753868958"
      ]
     },
     "execution_count": 28,
     "metadata": {},
     "output_type": "execute_result"
    }
   ],
   "source": [
    "# Evaluate a welfare method\n",
    "w = ad2.welfare('sen')\n",
    "w"
   ]
  },
  {
   "cell_type": "markdown",
   "metadata": {},
   "source": [
    "The summary function shows the result of various methods:"
   ]
  },
  {
   "cell_type": "code",
   "execution_count": 29,
   "metadata": {},
   "outputs": [
    {
     "data": {
      "text/html": [
       "<div>\n",
       "<style scoped>\n",
       "    .dataframe tbody tr th:only-of-type {\n",
       "        vertical-align: middle;\n",
       "    }\n",
       "\n",
       "    .dataframe tbody tr th {\n",
       "        vertical-align: top;\n",
       "    }\n",
       "\n",
       "    .dataframe thead th {\n",
       "        text-align: right;\n",
       "    }\n",
       "</style>\n",
       "<table border=\"1\" class=\"dataframe\">\n",
       "  <thead>\n",
       "    <tr style=\"text-align: right;\">\n",
       "      <th></th>\n",
       "      <th>method</th>\n",
       "      <th>measure</th>\n",
       "    </tr>\n",
       "  </thead>\n",
       "  <tbody>\n",
       "    <tr>\n",
       "      <th>0</th>\n",
       "      <td>utilitarian</td>\n",
       "      <td>45.408376</td>\n",
       "    </tr>\n",
       "    <tr>\n",
       "      <th>1</th>\n",
       "      <td>rawlsian</td>\n",
       "      <td>0.112876</td>\n",
       "    </tr>\n",
       "    <tr>\n",
       "      <th>2</th>\n",
       "      <td>sen</td>\n",
       "      <td>28.824398</td>\n",
       "    </tr>\n",
       "    <tr>\n",
       "      <th>3</th>\n",
       "      <td>theill</td>\n",
       "      <td>34.253866</td>\n",
       "    </tr>\n",
       "    <tr>\n",
       "      <th>4</th>\n",
       "      <td>theilt</td>\n",
       "      <td>36.529160</td>\n",
       "    </tr>\n",
       "    <tr>\n",
       "      <th>5</th>\n",
       "      <td>isoelastic(0)</td>\n",
       "      <td>45.408376</td>\n",
       "    </tr>\n",
       "    <tr>\n",
       "      <th>6</th>\n",
       "      <td>isoelastic(1)</td>\n",
       "      <td>3.533799</td>\n",
       "    </tr>\n",
       "    <tr>\n",
       "      <th>7</th>\n",
       "      <td>isoelastic(2)</td>\n",
       "      <td>-0.059726</td>\n",
       "    </tr>\n",
       "    <tr>\n",
       "      <th>8</th>\n",
       "      <td>isoelastic(inf)</td>\n",
       "      <td>0.112876</td>\n",
       "    </tr>\n",
       "  </tbody>\n",
       "</table>\n",
       "</div>"
      ],
      "text/plain": [
       "            method    measure\n",
       "0      utilitarian  45.408376\n",
       "1         rawlsian   0.112876\n",
       "2              sen  28.824398\n",
       "3           theill  34.253866\n",
       "4           theilt  36.529160\n",
       "5    isoelastic(0)  45.408376\n",
       "6    isoelastic(1)   3.533799\n",
       "7    isoelastic(2)  -0.059726\n",
       "8  isoelastic(inf)   0.112876"
      ]
     },
     "execution_count": 29,
     "metadata": {},
     "output_type": "execute_result"
    }
   ],
   "source": [
    "df_wlf = welfare_summary(ad2)\n",
    "df_wlf"
   ]
  },
  {
   "cell_type": "markdown",
   "metadata": {},
   "source": [
    "## Polarization \n",
    "\n",
    "The following welfare measures are implemented:\n",
    "\n",
    "- `ray`: Esteban and Ray index\n",
    "- `wolfson`: Wolfson index"
   ]
  },
  {
   "cell_type": "code",
   "execution_count": 30,
   "metadata": {},
   "outputs": [
    {
     "data": {
      "text/plain": [
       "0.03316795744715791"
      ]
     },
     "execution_count": 30,
     "metadata": {},
     "output_type": "execute_result"
    }
   ],
   "source": [
    "# Evaluate a polarization method\n",
    "p = ad2.polarization('ray')\n",
    "p"
   ]
  },
  {
   "cell_type": "markdown",
   "metadata": {},
   "source": [
    "The summary function shows the result of various methods:"
   ]
  },
  {
   "cell_type": "code",
   "execution_count": 31,
   "metadata": {},
   "outputs": [
    {
     "data": {
      "text/html": [
       "<div>\n",
       "<style scoped>\n",
       "    .dataframe tbody tr th:only-of-type {\n",
       "        vertical-align: middle;\n",
       "    }\n",
       "\n",
       "    .dataframe tbody tr th {\n",
       "        vertical-align: top;\n",
       "    }\n",
       "\n",
       "    .dataframe thead th {\n",
       "        text-align: right;\n",
       "    }\n",
       "</style>\n",
       "<table border=\"1\" class=\"dataframe\">\n",
       "  <thead>\n",
       "    <tr style=\"text-align: right;\">\n",
       "      <th></th>\n",
       "      <th>method</th>\n",
       "      <th>measure</th>\n",
       "    </tr>\n",
       "  </thead>\n",
       "  <tbody>\n",
       "    <tr>\n",
       "      <th>0</th>\n",
       "      <td>ray</td>\n",
       "      <td>0.033168</td>\n",
       "    </tr>\n",
       "    <tr>\n",
       "      <th>1</th>\n",
       "      <td>wolfson</td>\n",
       "      <td>0.357081</td>\n",
       "    </tr>\n",
       "  </tbody>\n",
       "</table>\n",
       "</div>"
      ],
      "text/plain": [
       "    method   measure\n",
       "0      ray  0.033168\n",
       "1  wolfson  0.357081"
      ]
     },
     "execution_count": 31,
     "metadata": {},
     "output_type": "execute_result"
    }
   ],
   "source": [
    "df_pz = polarization_summary(ad2)\n",
    "df_pz"
   ]
  },
  {
   "cell_type": "markdown",
   "metadata": {},
   "source": [
    "## Concentration\n",
    "\n",
    "The following concentration measures are implemented:\n",
    "\n",
    "- `herfindahl`: Herfindahl-Hirschman Index\n",
    "- `rosenbluth`: Rosenbluth Index\n",
    "- `concentration_ratio`: Concentration Ratio Index"
   ]
  },
  {
   "cell_type": "code",
   "execution_count": 32,
   "metadata": {},
   "outputs": [
    {
     "data": {
      "text/plain": [
       "0.00044254144331556705"
      ]
     },
     "execution_count": 32,
     "metadata": {},
     "output_type": "execute_result"
    }
   ],
   "source": [
    "# Evaluate a concentration method\n",
    "c = ad2.concentration('herfindahl')\n",
    "c"
   ]
  },
  {
   "cell_type": "markdown",
   "metadata": {},
   "source": [
    "The summary function shows the result of various methods:"
   ]
  },
  {
   "cell_type": "code",
   "execution_count": 33,
   "metadata": {},
   "outputs": [
    {
     "data": {
      "text/html": [
       "<div>\n",
       "<style scoped>\n",
       "    .dataframe tbody tr th:only-of-type {\n",
       "        vertical-align: middle;\n",
       "    }\n",
       "\n",
       "    .dataframe tbody tr th {\n",
       "        vertical-align: top;\n",
       "    }\n",
       "\n",
       "    .dataframe thead th {\n",
       "        text-align: right;\n",
       "    }\n",
       "</style>\n",
       "<table border=\"1\" class=\"dataframe\">\n",
       "  <thead>\n",
       "    <tr style=\"text-align: right;\">\n",
       "      <th></th>\n",
       "      <th>method</th>\n",
       "      <th>measure</th>\n",
       "    </tr>\n",
       "  </thead>\n",
       "  <tbody>\n",
       "    <tr>\n",
       "      <th>0</th>\n",
       "      <td>herfindahl</td>\n",
       "      <td>0.000443</td>\n",
       "    </tr>\n",
       "    <tr>\n",
       "      <th>1</th>\n",
       "      <td>herfindahl(norm)</td>\n",
       "      <td>0.000443</td>\n",
       "    </tr>\n",
       "    <tr>\n",
       "      <th>2</th>\n",
       "      <td>rosenbluth</td>\n",
       "      <td>0.001575</td>\n",
       "    </tr>\n",
       "    <tr>\n",
       "      <th>3</th>\n",
       "      <td>concentration_ratio(1)</td>\n",
       "      <td>0.004197</td>\n",
       "    </tr>\n",
       "    <tr>\n",
       "      <th>4</th>\n",
       "      <td>concentration_ratio(3)</td>\n",
       "      <td>0.010900</td>\n",
       "    </tr>\n",
       "  </tbody>\n",
       "</table>\n",
       "</div>"
      ],
      "text/plain": [
       "                   method   measure\n",
       "0              herfindahl  0.000443\n",
       "1        herfindahl(norm)  0.000443\n",
       "2              rosenbluth  0.001575\n",
       "3  concentration_ratio(1)  0.004197\n",
       "4  concentration_ratio(3)  0.010900"
      ]
     },
     "execution_count": 33,
     "metadata": {},
     "output_type": "execute_result"
    }
   ],
   "source": [
    "df_conc = concentration_summary(ad2)\n",
    "df_conc "
   ]
  },
  {
   "cell_type": "markdown",
   "metadata": {},
   "source": [
    "## References\n",
    "\n",
    "> Schröder, C. (2011). Cowell, F.: Measuring Inequality. London School of Economics Perspectives in Economic Analysis.\n",
    "\n",
    "> Adler, M. D., & Fleurbaey, M. (Eds.). (2016). The Oxford handbook of well-being and public policy. Oxford University Press.\n",
    "\n",
    "> Haughton, J., & Khandker, S. R. (2009). Handbook on poverty+ inequality. World Bank Publications.\n",
    "\n",
    "> Gasparini, L., Cicowiez, M., & Sosa Escudero, W. (2012). Pobreza y desigualdad en América Latina. Temas Grupo Editorial.\n",
    "\n",
    "> Araar, A., & Duclos, J. Y. (2007). DASP: Distributive analysis stata package. PEP, World Bank, UNDP and Université Laval."
   ]
  },
  {
   "cell_type": "markdown",
   "metadata": {},
   "source": [
    "### Apendix"
   ]
  },
  {
   "cell_type": "code",
   "execution_count": 6,
   "metadata": {},
   "outputs": [],
   "source": [
    "# Evaluating a list of poverty methods\n",
    "def poverty_summary(ad, pline=None, factor=1.0, q=None):\n",
    "    import apode\n",
    "    #y = ad[ad.income_column].values # ver falla\n",
    "    y = ad.x.values \n",
    "    pline = apode.poverty._get_pline(y, pline, factor, q)\n",
    "    \n",
    "    pov_list = [[\"headcount\", None],\n",
    "             [\"gap\", None],\n",
    "             [\"severity\",None],\n",
    "             [\"fgt\",1.5],\n",
    "             [\"sen\",None],\n",
    "             [\"sst\",None],\n",
    "             [\"watts\",None],\n",
    "             [\"cuh\",0],\n",
    "             [\"cuh\",0.5],\n",
    "             [\"takayama\",None],\n",
    "             [\"kakwani\",None],\n",
    "             [\"thon\",None],\n",
    "             [\"bd\",1.0],\n",
    "             [\"bd\",2.0],\n",
    "             [\"hagenaars\",None],\n",
    "             [\"chakravarty\",0.5]]\n",
    "    p = []\n",
    "    pl = []\n",
    "    for elem in pov_list:\n",
    "        if elem[1]==None:\n",
    "            p.append(ad.poverty(elem[0],pline=pline))\n",
    "            pl.append(elem[0])\n",
    "        else:\n",
    "            p.append(ad.poverty(elem[0],pline=pline,alpha=elem[1]))\n",
    "            pl.append(elem[0] + '(' + str(elem[1]) +')')\n",
    "    df_p = pd.concat([pd.DataFrame(pl),pd.DataFrame(p)],axis=1)\n",
    "    df_p.columns = ['method','measure']\n",
    "    return df_p\n",
    "\n",
    "# Evaluate a list of inequality methods\n",
    "def inequality_summary(ad):\n",
    "    ineq_list = [[\"rrange\", None],\n",
    "             [\"rad\", None],\n",
    "             [\"cv\",None],\n",
    "             [\"sdlog\",None],\n",
    "             [\"gini\",None],\n",
    "             [\"merhan\",None],\n",
    "             [\"piesch\",None],\n",
    "             [\"bonferroni\",None],\n",
    "             [\"kolm\",0.5],\n",
    "             [\"ratio\",0.05],\n",
    "             [\"ratio\",0.2],\n",
    "             [\"entropy\",0],\n",
    "             [\"entropy\",1],\n",
    "             [\"entropy\",2],         \n",
    "             [\"atkinson\",0.5],\n",
    "             [\"atkinson\",1.0],\n",
    "             [\"atkinson\",2.0]]\n",
    "    p = []\n",
    "    pl = []\n",
    "    for elem in ineq_list:\n",
    "        if elem[1]==None:\n",
    "            p.append(ad.inequality(elem[0]))\n",
    "            pl.append(elem[0])\n",
    "        else:\n",
    "            p.append(ad.inequality(elem[0],alpha=elem[1]))\n",
    "            pl.append(elem[0] + '(' + str(elem[1]) +')')\n",
    "    df_ineq = pd.concat([pd.DataFrame(pl),pd.DataFrame(p)],axis=1)\n",
    "    df_ineq.columns = ['method','measure']    \n",
    "    return df_ineq   \n",
    "\n",
    "# Evaluate a list of welfare methods\n",
    "def welfare_summary(ad):\n",
    "    wlf_list = [[\"utilitarian\", None],\n",
    "             [\"rawlsian\", None],\n",
    "             [\"sen\",None],\n",
    "             [\"theill\",None],\n",
    "             [\"theilt\",None],\n",
    "             [\"isoelastic\",0],\n",
    "             [\"isoelastic\",1],\n",
    "             [\"isoelastic\",2],\n",
    "             [\"isoelastic\",np.Inf]]\n",
    "    p = []\n",
    "    pl = []\n",
    "    for elem in wlf_list:\n",
    "        if elem[1]==None:\n",
    "            p.append(ad.welfare(elem[0]))\n",
    "            pl.append(elem[0])\n",
    "        else:\n",
    "            p.append(ad.welfare(elem[0],alpha=elem[1]))\n",
    "            pl.append(elem[0] + '(' + str(elem[1]) +')')\n",
    "\n",
    "    df_wlf = pd.concat([pd.DataFrame(pl),pd.DataFrame(p)],axis=1)\n",
    "    df_wlf.columns = ['method','measure']\n",
    "    return df_wlf \n",
    "\n",
    "# Evaluate a list of polarization methods\n",
    "def polarization_summary(ad):\n",
    "    pol_list = [[\"ray\", None],\n",
    "             [\"wolfson\", None]]\n",
    "    p = []\n",
    "    pl = []\n",
    "    for elem in pol_list:\n",
    "        if elem[1]==None:\n",
    "            p.append(ad2.polarization(elem[0]))\n",
    "            pl.append(elem[0])\n",
    "        else:\n",
    "            p.append(ad2.polarization(elem[0],alpha=elem[1]))\n",
    "            pl.append(elem[0] + '(' + str(elem[1]) +')')\n",
    "    df_pz = pd.concat([pd.DataFrame(pl),pd.DataFrame(p)],axis=1)\n",
    "    df_pz.columns = ['method','measure']\n",
    "    return df_pz \n",
    "\n",
    "# Evaluate a list of concentration methods\n",
    "def concentration_summary(ad):\n",
    "    conc_list = [[\"herfindahl\", None],\n",
    "             [\"herfindahl\", True],\n",
    "             [\"rosenbluth\",None],\n",
    "             [\"concentration_ratio\",1],\n",
    "             [\"concentration_ratio\",3]]\n",
    "    p = []\n",
    "    pl = []\n",
    "    for elem in conc_list:\n",
    "        if elem[1]==None:\n",
    "            p.append(ad2.concentration(elem[0]))\n",
    "            pl.append(elem[0])\n",
    "        else:\n",
    "            if elem[0]==\"herfindahl\":\n",
    "                p.append(ad2.concentration(elem[0],normalized=elem[1]))  # check keyword\n",
    "                pl.append(elem[0] + '(norm)')\n",
    "            elif elem[0]==\"concentration_ratio\":\n",
    "                p.append(ad2.concentration(elem[0],k=elem[1]))  # check keyword            \n",
    "                pl.append(elem[0] + '(' + str(elem[1]) +')')\n",
    "            else:\n",
    "                p.append(ad2.concentration(elem[0],alpha=elem[1]))\n",
    "                pl.append(elem[0] + '(' + str(elem[1]) +')')\n",
    "    df_conc = pd.concat([pd.DataFrame(pl),pd.DataFrame(p)],axis=1)\n",
    "    df_conc.columns = ['method','measure']\n",
    "    return df_conc \n"
   ]
  },
  {
   "cell_type": "code",
   "execution_count": 34,
   "metadata": {},
   "outputs": [],
   "source": [
    "# receives a dataframe and applies a measure according to the column \"varg\"\n",
    "def poverty_groupby(ad,method,group_column,**kwargs):\n",
    "    return measure_groupby(ad,method,group_column,measure='poverty',**kwargs)\n",
    "\n",
    "def measure_groupby(ad,method,group_column,measure,**kwargs):\n",
    "    a = []; b = []; c = []\n",
    "    for name, group in ad.groupby(group_column):\n",
    "        adi = ApodeData(group,income_column=ad.income_column)\n",
    "        if measure=='poverty':\n",
    "            p = adi.poverty(method,**kwargs)\n",
    "        elif measure=='inequality':\n",
    "            p = adi.inequality(method,**kwargs)\n",
    "        elif measure=='concentration':\n",
    "            p = adi.concentration(method,**kwargs)\n",
    "        elif measure=='polarization':\n",
    "            p = adi.polarization(method,**kwargs)\n",
    "        elif measure=='welfare':\n",
    "            p = adi.welfare(method,**kwargs)            \n",
    "        a.append(name)\n",
    "        b.append(p)\n",
    "        c.append(group.shape[0])\n",
    "    xname = ad.income_column + \"_measure\"\n",
    "    wname = ad.income_column + \"_weight\"\n",
    "    return pd.DataFrame({xname: b, wname: c}, index=pd.Index(a))  "
   ]
  }
 ],
 "metadata": {
  "kernelspec": {
   "display_name": "Python 3",
   "language": "python",
   "name": "python3"
  },
  "language_info": {
   "codemirror_mode": {
    "name": "ipython",
    "version": 3
   },
   "file_extension": ".py",
   "mimetype": "text/x-python",
   "name": "python",
   "nbconvert_exporter": "python",
   "pygments_lexer": "ipython3",
   "version": "3.8.5"
  }
 },
 "nbformat": 4,
 "nbformat_minor": 4
}
